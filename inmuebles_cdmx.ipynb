{
  "nbformat": 4,
  "nbformat_minor": 0,
  "metadata": {
    "colab": {
      "provenance": [],
      "include_colab_link": true
    },
    "kernelspec": {
      "name": "python3",
      "display_name": "Python 3"
    },
    "language_info": {
      "name": "python"
    }
  },
  "cells": [
    {
      "cell_type": "markdown",
      "metadata": {
        "id": "view-in-github",
        "colab_type": "text"
      },
      "source": [
        "<a href=\"https://colab.research.google.com/github/CSebasGC/DesafioAlura_Store_DataSC/blob/main/inmuebles_cdmx.ipynb\" target=\"_parent\"><img src=\"https://colab.research.google.com/assets/colab-badge.svg\" alt=\"Open In Colab\"/></a>"
      ]
    },
    {
      "cell_type": "markdown",
      "source": [
        "# **PANDAS**\n"
      ],
      "metadata": {
        "id": "fluzSzEMEZ5F"
      }
    },
    {
      "cell_type": "markdown",
      "source": [
        "# **Importando la base de datos**"
      ],
      "metadata": {
        "id": "o3Man8BSEsJe"
      }
    },
    {
      "cell_type": "code",
      "source": [
        "import pandas as pd\n",
        "\n",
        "url = 'https://gist.githubusercontent.com/ahcamachod/a572cfcc2527046db93101f88011b26e/raw/ffb13f45a79d31223e645611a119397dd127ee3c/alquiler.csv'\n",
        "\n",
        "pd.read_csv(url)"
      ],
      "metadata": {
        "id": "OEHRMc8kMFFI"
      },
      "execution_count": null,
      "outputs": []
    }
  ]
}